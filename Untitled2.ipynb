{
 "cells": [
  {
   "cell_type": "code",
   "execution_count": 7,
   "metadata": {},
   "outputs": [],
   "source": [
    "basketball_sg1 = [\"lakers\",\"celtics\",\"rockets\",\"warriors\",\"spurs\"]\n",
    "teams_sg2 = [\"lakers\",\"celtics\",\"rockets\",\"warriors\",\"spurs\"]\n",
    "\n",
    "football_1 = [\"barcelona\",\"madrid\",\"juventus\",\"manchester\",\"arsenal\"]\n",
    "teams_2 = [\"barcelona\",\"madrid\",\"juventus\",\"manchester\",\"arsenal\"]"
   ]
  },
  {
   "cell_type": "code",
   "execution_count": 11,
   "metadata": {},
   "outputs": [],
   "source": [
    "bsg1 = set(basketball_sg1)\n",
    "tsg2 = set(teams_sg2)\n",
    "\n",
    "f1 = set(football_1)\n",
    "t2 = set(teams_2)"
   ]
  },
  {
   "cell_type": "code",
   "execution_count": 15,
   "metadata": {},
   "outputs": [],
   "source": [
    "common1 = bsg1.intersection(tsg2)\n",
    "\n",
    "common2 = f1.intersection(t2)\n",
    "\n",
    "#common1\n",
    "#common2"
   ]
  },
  {
   "cell_type": "code",
   "execution_count": 28,
   "metadata": {},
   "outputs": [
    {
     "ename": "NameError",
     "evalue": "name 'common3' is not defined",
     "output_type": "error",
     "traceback": [
      "\u001b[1;31m---------------------------------------------------------------------------\u001b[0m",
      "\u001b[1;31mNameError\u001b[0m                                 Traceback (most recent call last)",
      "\u001b[1;32m<ipython-input-28-99a0567fe087>\u001b[0m in \u001b[0;36m<module>\u001b[1;34m\u001b[0m\n\u001b[0;32m      2\u001b[0m \u001b[0mtsg2_ljoin\u001b[0m \u001b[1;33m=\u001b[0m \u001b[0mcommon2\u001b[0m\u001b[1;33m.\u001b[0m\u001b[0munion\u001b[0m\u001b[1;33m(\u001b[0m\u001b[0mtsg2\u001b[0m\u001b[1;33m)\u001b[0m\u001b[1;33m\u001b[0m\u001b[1;33m\u001b[0m\u001b[0m\n\u001b[0;32m      3\u001b[0m \u001b[1;33m\u001b[0m\u001b[0m\n\u001b[1;32m----> 4\u001b[1;33m \u001b[0mf1_ljoin\u001b[0m \u001b[1;33m=\u001b[0m \u001b[0mcommon3\u001b[0m\u001b[1;33m.\u001b[0m\u001b[0munion\u001b[0m\u001b[1;33m(\u001b[0m\u001b[0mf1\u001b[0m\u001b[1;33m)\u001b[0m\u001b[1;33m\u001b[0m\u001b[1;33m\u001b[0m\u001b[0m\n\u001b[0m\u001b[0;32m      5\u001b[0m \u001b[0mt2_ljoin\u001b[0m \u001b[1;33m=\u001b[0m \u001b[0mcommon4\u001b[0m\u001b[1;33m.\u001b[0m\u001b[0munion\u001b[0m\u001b[1;33m(\u001b[0m\u001b[0mt2\u001b[0m\u001b[1;33m)\u001b[0m\u001b[1;33m\u001b[0m\u001b[1;33m\u001b[0m\u001b[0m\n\u001b[0;32m      6\u001b[0m \u001b[1;33m\u001b[0m\u001b[0m\n",
      "\u001b[1;31mNameError\u001b[0m: name 'common3' is not defined"
     ]
    }
   ],
   "source": [
    "bsg1_ljoin = common1.union(bsg1)\n",
    "tsg2_ljoin = common2.union(tsg2)\n",
    "\n",
    "f1_ljoin = common3.union(f1)\n",
    "t2_ljoin = common4.union(t2)\n",
    "\n",
    "#bsg1_ljoin\n",
    "#tsg2_ljoin\n",
    "#f1_ljoin\n",
    "#t2_ljoin"
   ]
  },
  {
   "cell_type": "code",
   "execution_count": 45,
   "metadata": {},
   "outputs": [
    {
     "ename": "NameError",
     "evalue": "name 'common3' is not defined",
     "output_type": "error",
     "traceback": [
      "\u001b[1;31m---------------------------------------------------------------------------\u001b[0m",
      "\u001b[1;31mNameError\u001b[0m                                 Traceback (most recent call last)",
      "\u001b[1;32m<ipython-input-45-7f011188987a>\u001b[0m in \u001b[0;36m<module>\u001b[1;34m\u001b[0m\n\u001b[0;32m      2\u001b[0m \u001b[0mtsg2_rjoin\u001b[0m \u001b[1;33m=\u001b[0m \u001b[0mcommon2\u001b[0m\u001b[1;33m.\u001b[0m\u001b[0munion\u001b[0m\u001b[1;33m(\u001b[0m\u001b[0mtsg2\u001b[0m\u001b[1;33m)\u001b[0m\u001b[1;33m\u001b[0m\u001b[1;33m\u001b[0m\u001b[0m\n\u001b[0;32m      3\u001b[0m \u001b[1;33m\u001b[0m\u001b[0m\n\u001b[1;32m----> 4\u001b[1;33m \u001b[0mf1_rjoin\u001b[0m \u001b[1;33m=\u001b[0m \u001b[0mcommon3\u001b[0m\u001b[1;33m.\u001b[0m\u001b[0munion\u001b[0m\u001b[1;33m(\u001b[0m\u001b[0mf1\u001b[0m\u001b[1;33m)\u001b[0m\u001b[1;33m\u001b[0m\u001b[1;33m\u001b[0m\u001b[0m\n\u001b[0m\u001b[0;32m      5\u001b[0m \u001b[0mt2_rjoin\u001b[0m \u001b[1;33m=\u001b[0m \u001b[0mcommon4\u001b[0m\u001b[1;33m.\u001b[0m\u001b[0munion\u001b[0m\u001b[1;33m(\u001b[0m\u001b[0mt2\u001b[0m\u001b[1;33m)\u001b[0m\u001b[1;33m\u001b[0m\u001b[1;33m\u001b[0m\u001b[0m\n\u001b[0;32m      6\u001b[0m \u001b[1;33m\u001b[0m\u001b[0m\n",
      "\u001b[1;31mNameError\u001b[0m: name 'common3' is not defined"
     ]
    }
   ],
   "source": [
    "bsg1_rjoin = common1.union(bsg1)\n",
    "tsg2_rjoin = common2.union(tsg2)\n",
    "\n",
    "f1_rjoin = common3.union(f1)\n",
    "t2_rjoin = common4.union(t2)\n",
    "\n",
    "#bsg1_rjoin\n",
    "#tsg2_rjoin\n",
    "#f1_rjoin\n",
    "#t2_rjoin"
   ]
  },
  {
   "cell_type": "code",
   "execution_count": 34,
   "metadata": {},
   "outputs": [],
   "source": [
    "bsg1_lexljoin = bsg1.difference(tsg2)\n",
    "tsg2_lexljoin = tsg2.difference(bsg1)\n",
    "\n",
    "\n",
    "f1_lexljoin = f1.difference(t2)\n",
    "t2_lexljoin = t2.difference(f1)\n",
    "\n",
    "#bsg1_lexljoin\n",
    "#tsg2_lexljoin\n",
    "#f1_lexljoin\n",
    "#t2_lexljoin"
   ]
  },
  {
   "cell_type": "code",
   "execution_count": 46,
   "metadata": {},
   "outputs": [],
   "source": [
    "bsg1_rexljoin = bsg1.difference(tsg2)\n",
    "tsg2_rexljoin = tsg2.difference(bsg1)\n",
    "\n",
    "f1_lexljoin = f1.difference(t2)\n",
    "t2_lexljoin = t2.difference(f1)\n",
    "\n",
    "#bsg1_rexljoin\n",
    "#tsg2_rexljoin\n",
    "#f1_rexljoin\n",
    "#t2_rexljoin"
   ]
  },
  {
   "cell_type": "code",
   "execution_count": 52,
   "metadata": {},
   "outputs": [
    {
     "data": {
      "text/plain": [
       "{'arsenal',\n",
       " 'barcelona',\n",
       " 'celtics',\n",
       " 'juventus',\n",
       " 'lakers',\n",
       " 'madrid',\n",
       " 'manchester',\n",
       " 'rockets',\n",
       " 'spurs',\n",
       " 'warriors'}"
      ]
     },
     "execution_count": 52,
     "metadata": {},
     "output_type": "execute_result"
    }
   ],
   "source": [
    "# f_outer1 = bsg1.union(tsg2)\n",
    "# f_outer2 = f1.union(t2)\n",
    "\n",
    "# f_outer1\n",
    "# f_outer2\n",
    "\n",
    "full_outer_ofAllSets = bsg1.union(tsg2,f1,t2)\n",
    "full_outer_ofAllSets"
   ]
  },
  {
   "cell_type": "code",
   "execution_count": null,
   "metadata": {},
   "outputs": [],
   "source": []
  }
 ],
 "metadata": {
  "kernelspec": {
   "display_name": "Python 3",
   "language": "python",
   "name": "python3"
  },
  "language_info": {
   "codemirror_mode": {
    "name": "ipython",
    "version": 3
   },
   "file_extension": ".py",
   "mimetype": "text/x-python",
   "name": "python",
   "nbconvert_exporter": "python",
   "pygments_lexer": "ipython3",
   "version": "3.8.3"
  }
 },
 "nbformat": 4,
 "nbformat_minor": 4
}
